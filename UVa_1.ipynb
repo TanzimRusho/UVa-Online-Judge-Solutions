{
  "nbformat": 4,
  "nbformat_minor": 0,
  "metadata": {
    "colab": {
      "name": "UVa_python.ipynb",
      "provenance": [],
      "authorship_tag": "ABX9TyMndEDR/AhK7F0D+aweUB4+",
      "include_colab_link": true
    },
    "kernelspec": {
      "name": "python3",
      "display_name": "Python 3"
    },
    "language_info": {
      "name": "python"
    }
  },
  "cells": [
    {
      "cell_type": "markdown",
      "metadata": {
        "id": "view-in-github",
        "colab_type": "text"
      },
      "source": [
        "<a href=\"https://colab.research.google.com/github/TanzimRusho/UVa-Online-Judge-Solutions/blob/main/UVa_1.ipynb\" target=\"_parent\"><img src=\"https://colab.research.google.com/assets/colab-badge.svg\" alt=\"Open In Colab\"/></a>"
      ]
    },
    {
      "cell_type": "markdown",
      "metadata": {
        "id": "3hyzxatjiNIU"
      },
      "source": [
        "Solutions to some accepted UVa (Online Judge) Problems... And some other problems + unfinished solutions. \n",
        "\n",
        "Accepted Problems:\n",
        "10327, 10852, 10055, 11789, 12372, 575, 11777, 11764, 10420, 10035, 12578, 11799, 10931, 11462, 11479, 11332, 11498, 12289, 12403, 11686, 382, 10370, 10783, 12577, 244, 11466, 11727, 12250, "
      ]
    },
    {
      "cell_type": "code",
      "metadata": {
        "id": "wnPU15MchWmh"
      },
      "source": [
        "# online judge - 10327\n",
        "\n",
        "#include <iostream>\n",
        "#include <cmath>\n",
        "#include <algorithm>\n",
        "#include <cstdio>\n",
        "using namespace std;\n",
        "\n",
        "int main()\n",
        "{\n",
        "    double a, b, c;\n",
        "    \n",
        "    while(scanf(\"%lf%lf%lf\\n\", &a, &b, &c)!=EOF)\n",
        "    {\n",
        "        double s = 0.5*(a+b+c);\n",
        "        double area = s*(s-a)*(s-b)*(s-c);\n",
        "        \n",
        "        if (area <= 0)\n",
        "        {\n",
        "            printf(\"-1.000\\n\");\n",
        "            continue;\n",
        "        }\n",
        "        else \n",
        "        {\n",
        "            area = (4.0/3.0)*sqrt(area);\n",
        "            printf(\"%.3lf\\n\", area);\n",
        "        }\n",
        "    }\n",
        "    \n",
        "    return 0;\n",
        "}"
      ],
      "execution_count": null,
      "outputs": []
    },
    {
      "cell_type": "code",
      "metadata": {
        "colab": {
          "base_uri": "https://localhost:8080/",
          "height": 69
        },
        "id": "GYvFj3Fw-ZF7",
        "outputId": "cc66f157-e208-4114-9750-c862881321e6"
      },
      "source": [
        "### Ignore... \n",
        "\n",
        "import requests\n",
        "import csv\n",
        " \n",
        "CSV_URL = \"http://data.stackexchange.com/stackoverflow/csv/521550\"\n",
        " \n",
        "response = requests.get(CSV_URL)\n",
        "data = csv.DictReader(response.content.splitlines())\n",
        "\n",
        "#print(str(data))\n",
        " \n",
        "\"\"\"\n",
        "for rank, row in enumerate(data):\n",
        "    print(\"#{} - {} - {} - {}\".format((rank+1),row['DisplayName'], row['Reputation'], row['WebsiteUrl']))\n",
        "\"\"\""
      ],
      "execution_count": null,
      "outputs": [
        {
          "output_type": "stream",
          "text": [
            "<csv.DictReader object at 0x7f59b57ecad0>\n"
          ],
          "name": "stdout"
        },
        {
          "output_type": "execute_result",
          "data": {
            "application/vnd.google.colaboratory.intrinsic+json": {
              "type": "string"
            },
            "text/plain": [
              "'\\nfor rank, row in enumerate(str(data)):\\n    print(\"#{} - {} - {} - {}\".format((rank+1),row[\\'DisplayName\\'], row[\\'Reputation\\'], row[\\'WebsiteUrl\\']))\\n'"
            ]
          },
          "metadata": {
            "tags": []
          },
          "execution_count": 13
        }
      ]
    },
    {
      "cell_type": "code",
      "metadata": {
        "id": "FHeb8MdUXstn"
      },
      "source": [
        "# online judge - 10852\n",
        "\n",
        "#include <stdio.h>\n",
        "#include <math.h>\n",
        "\n",
        "int is_prime(int n)\n",
        "{\n",
        "    int i, flag = 1;\n",
        "    \n",
        "    for(i=2; i <= sqrt(n); ++i)\n",
        "    {\n",
        "        if (n%i == 0) {\n",
        "            //flag = 0;\n",
        "            return 0;\n",
        "        }\n",
        "    }\n",
        "    if (flag)\n",
        "        return 1;\n",
        "}\n",
        "\n",
        "int main()\n",
        "{\n",
        "    int m, n, x;\n",
        "    \n",
        "    scanf(\"%d\\n\", &m);\n",
        "    \n",
        "    while(m--)\n",
        "    {\n",
        "        scanf(\"%d\\n\", &n);\n",
        "        \n",
        "        for(x=2; x<=n; ++x)\n",
        "        {\n",
        "            if (!(is_prime(x))) \n",
        "                continue;\n",
        "            \n",
        "            else if (n < 2*x) {\n",
        "                printf(\"%d\\n\", x); \n",
        "                break;\n",
        "            }\n",
        "        }\n",
        "\n",
        "    }\n",
        "    return 0;\n",
        "}"
      ],
      "execution_count": null,
      "outputs": []
    },
    {
      "cell_type": "code",
      "metadata": {
        "id": "Bnkzz1-WIFP6"
      },
      "source": [
        "# online judge - 10050\n",
        "\n",
        "#include <stdio.h>\n",
        "\n",
        "int main()\n",
        "{\n",
        "    int T, N, P, i, j, k, h[100], hartal_in[3651], count;\n",
        "\n",
        "    scanf(\"%d\\n\", &T);\n",
        "    \n",
        "    while(T--)\n",
        "    {\n",
        "        scanf(\"%d\\n\", &N);\n",
        "        scanf(\"%d\\n\", &P);\n",
        "        \n",
        "        for(k=0; k<P; ++k)\n",
        "        {\n",
        "            scanf(\"%d\\n\", &h[k]);\n",
        "        }\n",
        "        \n",
        "        count = 0;\n",
        "        \n",
        "        for(i=1; i<=N; ++i)\n",
        "        {\n",
        "            if (!((i+1) % 7) || !(i % 7))\n",
        "                continue;\n",
        "            \n",
        "            hartal_in[i] = 0;\n",
        "            \n",
        "            for(j=0; j<P; ++j) \n",
        "            {\n",
        "                if (hartal_in[i] == 1)\n",
        "                    break;\n",
        "                \n",
        "                else if (!(i % h[j])) \n",
        "                {\n",
        "                    hartal_in[i] = 1;\n",
        "                    ++count;\n",
        "                }\n",
        "            }\n",
        "        }\n",
        "        \n",
        "        printf(\"%d\\n\", count);\n",
        "        \n",
        "    }\n",
        "    \n",
        "    return 0;\n",
        "}"
      ],
      "execution_count": null,
      "outputs": []
    },
    {
      "cell_type": "code",
      "metadata": {
        "id": "BxdGPEurjCct"
      },
      "source": [
        "# Timus - 1014\n",
        "# unfinished\n",
        "#include <stdio.h>\n",
        "\n",
        "int main()\n",
        "{\n",
        "    long int n, i, j=0, k, min;\n",
        "    \n",
        "    scanf(\"%ld\", &n);\n",
        "    \n",
        "    for(i=1; i<=n/2; ++i) {\n",
        "        if (n%i == 0) {\n",
        "            factors[j] = i;\n",
        "            ++j;\n",
        "        }\n",
        "    }\n",
        "    \n",
        "    for(i=0; i<j; ++i)\n",
        "        for(k=0; k<j; ++k) {\n",
        "            product = factors[i] * factors[k]\n",
        "            if (product == n) {\n",
        "                \n",
        "            }\n",
        "                \n",
        "        }\n",
        "    \n",
        "    \n",
        "    return 0;\n",
        "}"
      ],
      "execution_count": null,
      "outputs": []
    },
    {
      "cell_type": "code",
      "metadata": {
        "id": "57dZ1T5HHLO1"
      },
      "source": [
        "# Timus - 1005\n",
        "# Unfinished\n",
        "\n",
        "#include <stdio.h>\n",
        "#include <math.h>\n",
        "\n",
        "int main()\n",
        "{\n",
        "    int n, i, j;\n",
        "    long int w[20], diff[20][20];\n",
        "    long int min = 100001; \n",
        "    \n",
        "    scanf(\"%d\\n\", &n);\n",
        "    \n",
        "    for(i=0; i<n; ++i)\n",
        "    {\n",
        "        scanf(\"%ld \", &w[i]);\n",
        "    }\n",
        "    \n",
        "    for(i=0; i<n; ++i)\n",
        "    {\n",
        "        for(j=i+1; j<n; ++j)\n",
        "            //printf(\"%d %d\\n\", i, j);\n",
        "            diff[i][j] = abs(w[i] - w[j]);\n",
        "        \n",
        "        if (diff[i][j] < min)\n",
        "            min = diff[i][j];\n",
        "    }\n",
        "    \n",
        "    printf(\"%ld\\n\", min);\n",
        "    \n",
        "    return 0;\n",
        "}"
      ],
      "execution_count": null,
      "outputs": []
    },
    {
      "cell_type": "code",
      "metadata": {
        "colab": {
          "base_uri": "https://localhost:8080/"
        },
        "id": "MjpmBZVVB2ts",
        "outputId": "5ed7367b-3ccf-4f8b-874f-e7f34e9bc90e"
      },
      "source": [
        "num = \"abjfkj\"\n",
        "\n",
        "num = num[:-1]\n",
        "\n",
        "print(num)\n"
      ],
      "execution_count": null,
      "outputs": [
        {
          "output_type": "stream",
          "text": [
            "abjfk\n"
          ],
          "name": "stdout"
        }
      ]
    },
    {
      "cell_type": "code",
      "metadata": {
        "id": "8QQkxQqIHqrk"
      },
      "source": [
        "# online judge - 11789\n",
        "\n",
        "while(True):\n",
        "    num = input()\n",
        "    \n",
        "    if int(num) == 0:\n",
        "        break\n",
        "    \n",
        "    d = num[-1]\n",
        "    \n",
        "    num = num[:-1]\n",
        "    \n",
        "    if (int(num) - 5 * int(d)) % 17 == 0:\n",
        "        print(1)\n",
        "    else:\n",
        "        print(0)\n"
      ],
      "execution_count": null,
      "outputs": []
    },
    {
      "cell_type": "code",
      "metadata": {
        "id": "XSf8K1Ssev-W"
      },
      "source": [
        "# online judge - 1190"
      ],
      "execution_count": null,
      "outputs": []
    },
    {
      "cell_type": "code",
      "metadata": {
        "id": "AODFTC4y_APJ"
      },
      "source": [
        "# online judge - 10070\n",
        "# Presentation Error\n",
        "\n",
        "while True:\n",
        "    try:\n",
        "        year = int(input())\n",
        "        leap = ((year % 4 == 0) and (year % 100 != 0)) or (year % 400 == 0)\n",
        "        huluculu = (year % 15 == 0)\n",
        "        bulukulu = (year % 55 == 0) and leap\n",
        "        \n",
        "        if leap == True:\n",
        "            print(\"This is leap year.\")\n",
        "            if huluculu == True:\n",
        "                print(\"This is huluculu festival year.\")\n",
        "            if bulukulu == True:\n",
        "                print(\"This is bulukulu festival year.\")\n",
        "        \n",
        "        elif huluculu == True:\n",
        "            print(\"This is huluculu festival year.\")\n",
        "        else:\n",
        "            print(\"This is an ordinary year.\")\n",
        "                \n",
        "        print()\n",
        "    \n",
        "    except EOFError:\n",
        "        break"
      ],
      "execution_count": null,
      "outputs": []
    },
    {
      "cell_type": "code",
      "metadata": {
        "id": "gpXOT_2A8ZC7"
      },
      "source": [
        "# online judge - 10921\n",
        "#unfinshed\n",
        "\n",
        "int_list = ['0','1', '2', '3', '4', '5', '6', '7', '8', '9']\n",
        "\n",
        "text = list(input().split('-'))\n",
        "# print(text)\n",
        "\n",
        "for elem in text:\n",
        "    if elem in int_list"
      ],
      "execution_count": null,
      "outputs": []
    },
    {
      "cell_type": "code",
      "metadata": {
        "id": "-y-uZrlE8qtC"
      },
      "source": [
        "# online judge - 12372\n",
        "\n",
        "#include <stdio.h>\n",
        "\n",
        "int main()\n",
        "{\n",
        "    int T, len, wid, hei, i;\n",
        "    \n",
        "    scanf(\"%d\\n\", &T);\n",
        "    \n",
        "    for(i=0; i<T; ++i)\n",
        "    {\n",
        "        scanf(\"%d %d %d\\n\", &len, &wid, &hei);\n",
        "        printf(\"Case %d: \", i+1);\n",
        "        \n",
        "        if (len <= 20 && wid <= 20 && hei <= 20)\n",
        "            printf(\"good\\n\");\n",
        "        else\n",
        "            printf(\"bad\\n\");\n",
        "    }\n",
        "    \n",
        "    return 0;\n",
        "}"
      ],
      "execution_count": null,
      "outputs": []
    },
    {
      "cell_type": "code",
      "metadata": {
        "id": "vhj3NcbRiVsO"
      },
      "source": [
        "# online judge - 575\n",
        "\n",
        "while(True):\n",
        "    skew_bin = input()\n",
        "    if skew_bin == \"0\":\n",
        "        break\n",
        "    \n",
        "    skew_bin = list(skew_bin)\n",
        "    \n",
        "    sum = 0\n",
        "    for i in range(len(skew_bin)):\n",
        "        sum += int(skew_bin[len(skew_bin)-i-1]) * ((2 ** (i+1)) - 1)\n",
        "        \n",
        "    print(sum)"
      ],
      "execution_count": null,
      "outputs": []
    },
    {
      "cell_type": "code",
      "metadata": {
        "id": "5hNHkp3DUtwU"
      },
      "source": [
        "# online judge - 11777\n",
        "\n",
        "#include <stdio.h>\n",
        "\n",
        "int main()\n",
        "{\n",
        "    int T, tf1, tf2, final, attn, i, j, min_ct, ct, avg_ct, total;\n",
        "    \n",
        "    scanf(\"%d\\n\", &T);\n",
        "    \n",
        "    for(i=0; i<T; ++i) \n",
        "    {\n",
        "        scanf(\"%d \", &tf1);\n",
        "        scanf(\"%d \", &tf2);\n",
        "        scanf(\"%d \", &final);\n",
        "        scanf(\"%d \", &attn);\n",
        "        \n",
        "        printf(\"Case %d: \", i+1);\n",
        "        \n",
        "        min_ct = 21;\n",
        "        avg_ct = 0;\n",
        "        \n",
        "        for(j=0; j<3; ++j)\n",
        "        {\n",
        "            scanf(\"%d \", &ct);\n",
        "            \n",
        "            if (ct < min_ct)\n",
        "                min_ct = ct;\n",
        "                \n",
        "            avg_ct += ct\n",
        "        }\n",
        "        \n",
        "        avg_ct = (avg_ct - min_ct) / 2\n",
        "        \n",
        "        total = tf1 + tf2 + final + attn + avg_ct;\n",
        "        \n",
        "        if(total >= 90)\n",
        "            printf(\"A\");\n",
        "        else if(total >= 80 && total < 90)\n",
        "            printf(\"B\");\n",
        "        else if(total >= 70 && total < 80)\n",
        "            printf(\"C\")\n",
        "        else if(total >= 60 && total < 70)\n",
        "            printf(\"D\")\n",
        "        else\n",
        "            printf(\"F\")\n",
        "        \n",
        "        printf(\"\\n\");\n",
        "    }\n",
        "    \n",
        "    return 0;\n",
        "}"
      ],
      "execution_count": null,
      "outputs": []
    },
    {
      "cell_type": "code",
      "metadata": {
        "id": "xyearuQcPO-O"
      },
      "source": [
        "# online judge - 11764\n",
        "\n",
        "#include <stdio.h>\n",
        "\n",
        "int main()\n",
        "{\n",
        "    int T, N, i, j, prev, jump, high_jumps, low_jumps, first_wall;\n",
        "    \n",
        "    scanf(\"%d\\n\", &T);\n",
        "    \n",
        "    for(i=0; i<T; ++i) \n",
        "    {\n",
        "        scanf(\"%d\\n\", &N);\n",
        "        \n",
        "        high_jumps = 0;\n",
        "        low_jumps = 0;\n",
        "        \n",
        "        scanf(\"%d \", &first_wall);\n",
        "        prev = first_wall;\n",
        "        \n",
        "        for(j=1; j<N; ++j)\n",
        "        {\n",
        "            scanf(\"%d \", &jump);\n",
        "            \n",
        "            if (jump > prev)\n",
        "                high_jumps += 1;\n",
        "            else if (jump < prev)\n",
        "                low_jumps += 1;\n",
        "                \n",
        "            prev = jump;\n",
        "        }\n",
        "        \n",
        "        printf(\"Case %d: %d %d\\n\", i+1, high_jumps, low_jumps);\n",
        "        \n",
        "    }\n",
        "    \n",
        "    return 0;\n",
        "}"
      ],
      "execution_count": null,
      "outputs": []
    },
    {
      "cell_type": "code",
      "metadata": {
        "id": "LjUIxu4Nk7w5"
      },
      "source": [
        "# online judge - 993\n",
        "# unfinished \n",
        "\n",
        "import math \n",
        "\n",
        "T = int(input())\n",
        "\n",
        "for i in range(T):\n",
        "    num = int(input())\n",
        "    flag = 1\n",
        "    \n",
        "    factors = []\n",
        "    \n",
        "    for j in range(1, int(num/2)+2):\n",
        "        if num % j == 0:\n",
        "            flag = 0\n",
        "            factors.append(j)\n",
        "        \n",
        "    if flag == 1:\n",
        "        print(-1)\n",
        "        \n",
        "    else:\n",
        "        short_list = []    \n",
        "        for elem in factors:\n",
        "            for k in factors:\n",
        "                if elem * k == 1:\n",
        "                    short_list.append(1)\n",
        "                elif elem * k == num:\n",
        "                    short_list.append(10*elem+k)\n",
        "                    \n",
        "        print(min(short_list))"
      ],
      "execution_count": null,
      "outputs": []
    },
    {
      "cell_type": "code",
      "metadata": {
        "id": "mtRFmELCeYkk"
      },
      "source": [
        "# online judge - 10812\n",
        "# WA\n",
        "\n",
        "T = int(input())\n",
        "\n",
        "for i in range(T):\n",
        "    a, d = input().split()\n",
        "    a = int(a)\n",
        "    d = int(d)\n",
        "    \n",
        "    if a <= d:\n",
        "        print(\"impossible\")\n",
        "    else:\n",
        "        num1 = int((a+d)/2)\n",
        "        num2 = a - num1\n",
        "        if num1 > num2:\n",
        "            print(num1, num2)\n",
        "        else:\n",
        "            print(num2, num1)"
      ],
      "execution_count": null,
      "outputs": []
    },
    {
      "cell_type": "code",
      "metadata": {
        "id": "oWq5s5QCYM9g"
      },
      "source": [
        "# online judge - 10420\n",
        "n = int(input())\n",
        "\n",
        "dictionary = {}\n",
        "for i in range(n):\n",
        "    text = input().split()\n",
        "    text = list(text)\n",
        "    #print(text)\n",
        "    if text[0] not in dictionary:\n",
        "        dictionary[text[0]] = 1\n",
        "    else:\n",
        "        dictionary[text[0]] += 1\n",
        "        \n",
        "for pair in sorted(dictionary.items()):\n",
        "    print(\"{} {}\".format(pair[0], pair[1]))"
      ],
      "execution_count": null,
      "outputs": []
    },
    {
      "cell_type": "code",
      "metadata": {
        "id": "tLi3l_WQJF7o"
      },
      "source": [
        "# online judge - 11614\n",
        "# (TLE)\n",
        "\n",
        "#include <stdio.h>\n",
        "\n",
        "int main()\n",
        "{\n",
        "    long long int num_warriors, i, j;\n",
        "    int T, k;\n",
        "    \n",
        "    scanf(\"%d\\n\", &T);\n",
        "    \n",
        "    for (k=0; k<T; ++k) \n",
        "    {\n",
        "        scanf(\"%lld\\n\", &num_warriors);\n",
        "        \n",
        "        i = 0;\n",
        "        while(1)\n",
        "        {\n",
        "            j = i+1;\n",
        "            if ((i*j)/2 > num_warriors)\n",
        "            {\n",
        "                printf(\"%lld\\n\", i-1);\n",
        "                break;\n",
        "            }\n",
        "            else\n",
        "                ++i;\n",
        "        }\n",
        "    }\n",
        "    \n",
        "    return 0;\n",
        "}"
      ],
      "execution_count": null,
      "outputs": []
    },
    {
      "cell_type": "code",
      "metadata": {
        "id": "q0_NFLm8ooR9"
      },
      "source": [
        "# online judge - 10035\n",
        "# interesting problem\n",
        "\n",
        "while(True):\n",
        "    num_1, num_2 = input().split()\n",
        "    \n",
        "    if int(num_1) == 0 and int(num_2) == 0:\n",
        "        break\n",
        "    \n",
        "    #i = len(num_1) - 1\n",
        "    #j = len(num_2) - 1 \n",
        "    \n",
        "    i = len(num_1)\n",
        "    j = len(num_2)\n",
        "    \n",
        "    new_num1 = \"\"\n",
        "    new_num2 = \"\"\n",
        "    \n",
        "    if i > j:\n",
        "        new_num2 = '0' * (i-j) + num_2\n",
        "        new_num1 = num_1\n",
        "    elif j > i:\n",
        "        new_num1 = '0' * (j-i) + num_1\n",
        "        new_num2 = num_2\n",
        "    else:\n",
        "        new_num1 = num_1\n",
        "        new_num2 = num_2\n",
        "    \n",
        "    count_cout = 0\n",
        "    carry = 0\n",
        "    \n",
        "    i = len(new_num1) - 1\n",
        "    j = len(new_num2) - 1 \n",
        "    \n",
        "    print(i, j)\n",
        "    print(new_num1)\n",
        "    print(new_num2)\n",
        "    \n",
        "    while(i>=0 or j>=0):\n",
        "        print(\"%d + %d + %d = %d\"%(carry, \n",
        "            int(new_num1[i]), int(new_num2[j]),\n",
        "                carry + int(new_num1[i]) + int(new_num2[j])))\n",
        "        if carry + int(new_num1[i]) + int(new_num2[j]) > 9:\n",
        "            carry = 1\n",
        "            count_cout += 1 \n",
        "        else:\n",
        "            carry = 0\n",
        "            \n",
        "        i -= 1\n",
        "        j -= 1\n",
        "    \n",
        "    if count_cout == 0:\n",
        "        print(\"No carry operation.\")\n",
        "    elif count_cout == 1:\n",
        "        print(\"{} carry operation.\".format(count_cout))\n",
        "    else:\n",
        "        print(\"{} carry operations.\".format(count_cout))\n",
        "    "
      ],
      "execution_count": null,
      "outputs": []
    },
    {
      "cell_type": "code",
      "metadata": {
        "id": "Fqzc8YC957zN"
      },
      "source": [
        "# online judge - 12578\n",
        "\n",
        "#include <stdio.h>\n",
        "#include <math.h>\n",
        "\n",
        "int main()\n",
        "{\n",
        "    int i, T, length;\n",
        "    double pi, width, radius, area_red, area_green;\n",
        "    \n",
        "    scanf(\"%d\\n\", &T);\n",
        "    \n",
        "    for (i=0; i < T; ++i)\n",
        "    {\n",
        "        scanf(\"%d\\n\", &length);\n",
        "        pi = acos(-1);\n",
        "    \n",
        "        width = (double)length * 0.6;\n",
        "        \n",
        "        radius = (double)length * 0.2;\n",
        "        \n",
        "        area_red = pi * radius * radius;\n",
        "        \n",
        "        area_green = length * width - area_red;\n",
        "        \n",
        "        printf(\"%.2lf %.2lf\\n\", area_red, area_green);\n",
        "    }\n",
        "\n",
        "    return 0;\n",
        "}"
      ],
      "execution_count": null,
      "outputs": []
    },
    {
      "cell_type": "code",
      "metadata": {
        "id": "ayCUvUJBk6SG"
      },
      "source": [
        "# online judge - 11799\n",
        "\n",
        "#include <stdio.h>\n",
        "\n",
        "int main()\n",
        "{\n",
        "    int i, j, T, n, speed[101], max;\n",
        "    \n",
        "    scanf(\"%d\\n\", &T);\n",
        "    \n",
        "    for (i=0; i < T; ++i)\n",
        "    {\n",
        "        max = 0;\n",
        "        \n",
        "        scanf(\"%d \", &n); \n",
        "        \n",
        "        for(j=0; j < n; ++j)\n",
        "        {\n",
        "            scanf(\"%d \", &speed[j]);\n",
        "            if (speed[j] > max)\n",
        "                max = speed[j];\n",
        "        }\n",
        "        \n",
        "        printf(\"Case %d: %d\\n\", i+1, max);\n",
        "    }\n",
        "    \n",
        "    return 0;\n",
        "}"
      ],
      "execution_count": null,
      "outputs": []
    },
    {
      "cell_type": "code",
      "metadata": {
        "colab": {
          "base_uri": "https://localhost:8080/",
          "height": 647
        },
        "id": "NgfP6zJXs9st",
        "outputId": "ad0e694d-2f46-49d4-b5f9-1ab5b4b1b5b3"
      },
      "source": [
        "# online judge - 272\n",
        "\n",
        "\n",
        "\n"
      ],
      "execution_count": null,
      "outputs": [
        {
          "output_type": "stream",
          "text": [
            "dshjfhjsdhgjh\n",
            "djfhjdhjhfjghj\n",
            "\u0004\n",
            "djfhjdhjhfjghj\n",
            "\u0004\n",
            "djfhjdhjhfjghj\n",
            "jdjahfjhdjhfjhd\n"
          ],
          "name": "stdout"
        },
        {
          "output_type": "error",
          "ename": "KeyboardInterrupt",
          "evalue": "ignored",
          "traceback": [
            "\u001b[0;31m---------------------------------------------------------------------------\u001b[0m",
            "\u001b[0;31mKeyboardInterrupt\u001b[0m                         Traceback (most recent call last)",
            "\u001b[0;32m/usr/local/lib/python3.7/dist-packages/ipykernel/kernelbase.py\u001b[0m in \u001b[0;36m_input_request\u001b[0;34m(self, prompt, ident, parent, password)\u001b[0m\n\u001b[1;32m    728\u001b[0m             \u001b[0;32mtry\u001b[0m\u001b[0;34m:\u001b[0m\u001b[0;34m\u001b[0m\u001b[0;34m\u001b[0m\u001b[0m\n\u001b[0;32m--> 729\u001b[0;31m                 \u001b[0mident\u001b[0m\u001b[0;34m,\u001b[0m \u001b[0mreply\u001b[0m \u001b[0;34m=\u001b[0m \u001b[0mself\u001b[0m\u001b[0;34m.\u001b[0m\u001b[0msession\u001b[0m\u001b[0;34m.\u001b[0m\u001b[0mrecv\u001b[0m\u001b[0;34m(\u001b[0m\u001b[0mself\u001b[0m\u001b[0;34m.\u001b[0m\u001b[0mstdin_socket\u001b[0m\u001b[0;34m,\u001b[0m \u001b[0;36m0\u001b[0m\u001b[0;34m)\u001b[0m\u001b[0;34m\u001b[0m\u001b[0;34m\u001b[0m\u001b[0m\n\u001b[0m\u001b[1;32m    730\u001b[0m             \u001b[0;32mexcept\u001b[0m \u001b[0mException\u001b[0m\u001b[0;34m:\u001b[0m\u001b[0;34m\u001b[0m\u001b[0;34m\u001b[0m\u001b[0m\n",
            "\u001b[0;32m/usr/local/lib/python3.7/dist-packages/jupyter_client/session.py\u001b[0m in \u001b[0;36mrecv\u001b[0;34m(self, socket, mode, content, copy)\u001b[0m\n\u001b[1;32m    802\u001b[0m         \u001b[0;32mtry\u001b[0m\u001b[0;34m:\u001b[0m\u001b[0;34m\u001b[0m\u001b[0;34m\u001b[0m\u001b[0m\n\u001b[0;32m--> 803\u001b[0;31m             \u001b[0mmsg_list\u001b[0m \u001b[0;34m=\u001b[0m \u001b[0msocket\u001b[0m\u001b[0;34m.\u001b[0m\u001b[0mrecv_multipart\u001b[0m\u001b[0;34m(\u001b[0m\u001b[0mmode\u001b[0m\u001b[0;34m,\u001b[0m \u001b[0mcopy\u001b[0m\u001b[0;34m=\u001b[0m\u001b[0mcopy\u001b[0m\u001b[0;34m)\u001b[0m\u001b[0;34m\u001b[0m\u001b[0;34m\u001b[0m\u001b[0m\n\u001b[0m\u001b[1;32m    804\u001b[0m         \u001b[0;32mexcept\u001b[0m \u001b[0mzmq\u001b[0m\u001b[0;34m.\u001b[0m\u001b[0mZMQError\u001b[0m \u001b[0;32mas\u001b[0m \u001b[0me\u001b[0m\u001b[0;34m:\u001b[0m\u001b[0;34m\u001b[0m\u001b[0;34m\u001b[0m\u001b[0m\n",
            "\u001b[0;32m/usr/local/lib/python3.7/dist-packages/zmq/sugar/socket.py\u001b[0m in \u001b[0;36mrecv_multipart\u001b[0;34m(self, flags, copy, track)\u001b[0m\n\u001b[1;32m    582\u001b[0m         \"\"\"\n\u001b[0;32m--> 583\u001b[0;31m         \u001b[0mparts\u001b[0m \u001b[0;34m=\u001b[0m \u001b[0;34m[\u001b[0m\u001b[0mself\u001b[0m\u001b[0;34m.\u001b[0m\u001b[0mrecv\u001b[0m\u001b[0;34m(\u001b[0m\u001b[0mflags\u001b[0m\u001b[0;34m,\u001b[0m \u001b[0mcopy\u001b[0m\u001b[0;34m=\u001b[0m\u001b[0mcopy\u001b[0m\u001b[0;34m,\u001b[0m \u001b[0mtrack\u001b[0m\u001b[0;34m=\u001b[0m\u001b[0mtrack\u001b[0m\u001b[0;34m)\u001b[0m\u001b[0;34m]\u001b[0m\u001b[0;34m\u001b[0m\u001b[0;34m\u001b[0m\u001b[0m\n\u001b[0m\u001b[1;32m    584\u001b[0m         \u001b[0;31m# have first part already, only loop while more to receive\u001b[0m\u001b[0;34m\u001b[0m\u001b[0;34m\u001b[0m\u001b[0;34m\u001b[0m\u001b[0m\n",
            "\u001b[0;32mzmq/backend/cython/socket.pyx\u001b[0m in \u001b[0;36mzmq.backend.cython.socket.Socket.recv\u001b[0;34m()\u001b[0m\n",
            "\u001b[0;32mzmq/backend/cython/socket.pyx\u001b[0m in \u001b[0;36mzmq.backend.cython.socket.Socket.recv\u001b[0;34m()\u001b[0m\n",
            "\u001b[0;32mzmq/backend/cython/socket.pyx\u001b[0m in \u001b[0;36mzmq.backend.cython.socket._recv_copy\u001b[0;34m()\u001b[0m\n",
            "\u001b[0;32m/usr/local/lib/python3.7/dist-packages/zmq/backend/cython/checkrc.pxd\u001b[0m in \u001b[0;36mzmq.backend.cython.checkrc._check_rc\u001b[0;34m()\u001b[0m\n",
            "\u001b[0;31mKeyboardInterrupt\u001b[0m: ",
            "\nDuring handling of the above exception, another exception occurred:\n",
            "\u001b[0;31mKeyboardInterrupt\u001b[0m                         Traceback (most recent call last)",
            "\u001b[0;32m<ipython-input-2-f34fa43ada1e>\u001b[0m in \u001b[0;36m<module>\u001b[0;34m()\u001b[0m\n\u001b[1;32m      3\u001b[0m \u001b[0;32mwhile\u001b[0m\u001b[0;34m(\u001b[0m\u001b[0;36m1\u001b[0m\u001b[0;34m)\u001b[0m\u001b[0;34m:\u001b[0m\u001b[0;34m\u001b[0m\u001b[0;34m\u001b[0m\u001b[0m\n\u001b[1;32m      4\u001b[0m     \u001b[0;32mtry\u001b[0m\u001b[0;34m:\u001b[0m\u001b[0;34m\u001b[0m\u001b[0;34m\u001b[0m\u001b[0m\n\u001b[0;32m----> 5\u001b[0;31m         \u001b[0mtext\u001b[0m \u001b[0;34m=\u001b[0m \u001b[0minput\u001b[0m\u001b[0;34m(\u001b[0m\u001b[0;34m)\u001b[0m\u001b[0;34m\u001b[0m\u001b[0;34m\u001b[0m\u001b[0m\n\u001b[0m\u001b[1;32m      6\u001b[0m         \u001b[0;31m#converted_text = text.replace(\" , '')\u001b[0m\u001b[0;34m\u001b[0m\u001b[0;34m\u001b[0m\u001b[0;34m\u001b[0m\u001b[0m\n\u001b[1;32m      7\u001b[0m \u001b[0;34m\u001b[0m\u001b[0m\n",
            "\u001b[0;32m/usr/local/lib/python3.7/dist-packages/ipykernel/kernelbase.py\u001b[0m in \u001b[0;36mraw_input\u001b[0;34m(self, prompt)\u001b[0m\n\u001b[1;32m    702\u001b[0m             \u001b[0mself\u001b[0m\u001b[0;34m.\u001b[0m\u001b[0m_parent_ident\u001b[0m\u001b[0;34m,\u001b[0m\u001b[0;34m\u001b[0m\u001b[0;34m\u001b[0m\u001b[0m\n\u001b[1;32m    703\u001b[0m             \u001b[0mself\u001b[0m\u001b[0;34m.\u001b[0m\u001b[0m_parent_header\u001b[0m\u001b[0;34m,\u001b[0m\u001b[0;34m\u001b[0m\u001b[0;34m\u001b[0m\u001b[0m\n\u001b[0;32m--> 704\u001b[0;31m             \u001b[0mpassword\u001b[0m\u001b[0;34m=\u001b[0m\u001b[0;32mFalse\u001b[0m\u001b[0;34m,\u001b[0m\u001b[0;34m\u001b[0m\u001b[0;34m\u001b[0m\u001b[0m\n\u001b[0m\u001b[1;32m    705\u001b[0m         )\n\u001b[1;32m    706\u001b[0m \u001b[0;34m\u001b[0m\u001b[0m\n",
            "\u001b[0;32m/usr/local/lib/python3.7/dist-packages/ipykernel/kernelbase.py\u001b[0m in \u001b[0;36m_input_request\u001b[0;34m(self, prompt, ident, parent, password)\u001b[0m\n\u001b[1;32m    732\u001b[0m             \u001b[0;32mexcept\u001b[0m \u001b[0mKeyboardInterrupt\u001b[0m\u001b[0;34m:\u001b[0m\u001b[0;34m\u001b[0m\u001b[0;34m\u001b[0m\u001b[0m\n\u001b[1;32m    733\u001b[0m                 \u001b[0;31m# re-raise KeyboardInterrupt, to truncate traceback\u001b[0m\u001b[0;34m\u001b[0m\u001b[0;34m\u001b[0m\u001b[0;34m\u001b[0m\u001b[0m\n\u001b[0;32m--> 734\u001b[0;31m                 \u001b[0;32mraise\u001b[0m \u001b[0mKeyboardInterrupt\u001b[0m\u001b[0;34m\u001b[0m\u001b[0;34m\u001b[0m\u001b[0m\n\u001b[0m\u001b[1;32m    735\u001b[0m             \u001b[0;32melse\u001b[0m\u001b[0;34m:\u001b[0m\u001b[0;34m\u001b[0m\u001b[0;34m\u001b[0m\u001b[0m\n\u001b[1;32m    736\u001b[0m                 \u001b[0;32mbreak\u001b[0m\u001b[0;34m\u001b[0m\u001b[0;34m\u001b[0m\u001b[0m\n",
            "\u001b[0;31mKeyboardInterrupt\u001b[0m: "
          ]
        }
      ]
    },
    {
      "cell_type": "code",
      "metadata": {
        "id": "PSDVw194gXMi"
      },
      "source": [
        "# online judge - 10931\n",
        "\n",
        "#include <stdio.h>\n",
        "#include <stdlib.h>\n",
        "#include <string.h>\n",
        "\n",
        "int main()\n",
        "{\n",
        "    long int n, i, count;\n",
        "    int a[40];\n",
        "    \n",
        "    while(scanf(\"%ld\\n\", &n)!=0) \n",
        "    {\n",
        "        if (n==0)\n",
        "            break;\n",
        "            \n",
        "        count = 0;\n",
        "        \n",
        "        for(i=0; n > 0; i++)\n",
        "        {\n",
        "            if (n % 2 == 0) \n",
        "                a[i] = 0;\n",
        "            else \n",
        "            {\n",
        "                a[i] = 1;   \n",
        "                ++count;\n",
        "            }\n",
        "            n /= 2; \n",
        "        }\n",
        "        \n",
        "        printf(\"The parity of \"); \n",
        "        \n",
        "        for(i=i-1; i >= 0; --i)\n",
        "        {\n",
        "            printf(\"%d\", a[i]);\n",
        "        }\n",
        "        \n",
        "        \n",
        "        printf(\" is %d (mod 2).\\n\", count);\n",
        "        \n",
        "    }\n",
        "    return 0;\n",
        "}"
      ],
      "execution_count": null,
      "outputs": []
    },
    {
      "cell_type": "code",
      "metadata": {
        "id": "hz0N1aLBGqGo"
      },
      "source": [
        "# online judge - 11462\n",
        "#include <bits/stdc++.h>\n",
        "using namespace std;\n",
        "\n",
        "int main()\n",
        "{\n",
        "    long int n, i, a[2000005];\n",
        "    \n",
        "    while(scanf(\"%ld\\n\", &n)) \n",
        "    {\n",
        "        if (!n) break;\n",
        "        for(i = 0; i < n; ++i)\n",
        "        {\n",
        "            scanf(\"%ld \", &a[i]);\n",
        "        }\n",
        "        \n",
        "        sort(a, a+n);\n",
        "        \n",
        "        for(i = 0; i < n; ++i)\n",
        "        {\n",
        "            printf(\"%ld\", a[i]);\n",
        "            if (i < n-1)\n",
        "                printf(\" \");\n",
        "            \n",
        "        }\n",
        "        printf(\"\\n\");\n",
        "    }\n",
        "    return 0;\n",
        "}"
      ],
      "execution_count": null,
      "outputs": []
    },
    {
      "cell_type": "code",
      "metadata": {
        "colab": {
          "base_uri": "https://localhost:8080/"
        },
        "id": "Tcv20XFvWlmD",
        "outputId": "bc11cf88-9b87-4379-8d59-3fe4a904d7e1"
      },
      "source": [
        "number = input()\n",
        "number = list(number)\n",
        "print(number)"
      ],
      "execution_count": null,
      "outputs": [
        {
          "output_type": "stream",
          "text": [
            "234\n",
            "['2', '3', '4']\n"
          ],
          "name": "stdout"
        }
      ]
    },
    {
      "cell_type": "code",
      "metadata": {
        "id": "xN-vBg_Jt4DJ"
      },
      "source": [
        "# online judge - 11479\n",
        "#include <stdio.h>\n",
        "\n",
        "int main()\n",
        "{\n",
        "    int T, i;\n",
        "    long int a, b, c;\n",
        "    \n",
        "    scanf(\"%d\\n\", &T);\n",
        "    \n",
        "    for(i=0; i<T; ++i)\n",
        "    {\n",
        "        scanf(\"%ld %ld %ld\\n\", &a, &b, &c);\n",
        "        printf(\"Case %d: \", i+1);\n",
        "        if (a+b <= c || b+c <= a || c+a <= b)\n",
        "            printf(\"Invalid\\n\");\n",
        "        else if (a == b && b == c && c==a)\n",
        "            printf(\"Equilateral\\n\");\n",
        "        else if (a==b || b==c || c==a)\n",
        "            printf(\"Isosceles\\n\");\n",
        "        else \n",
        "            printf(\"Scalene\\n\");\n",
        "        \n",
        "    }\n",
        "\n",
        "    return 0;\n",
        "}"
      ],
      "execution_count": null,
      "outputs": []
    },
    {
      "cell_type": "code",
      "metadata": {
        "colab": {
          "base_uri": "https://localhost:8080/"
        },
        "id": "kg9nhVeqMsLw",
        "outputId": "14db67d1-49fc-42d7-c808-2da5f48604fc"
      },
      "source": [
        "# online judge: 11332\n",
        "\n",
        "while(1):\n",
        "    number = input()\n",
        "    if number == \"0\":\n",
        "        break\n",
        "    elif len(number) == 1:\n",
        "        print(number) \n",
        "    else:\n",
        "        number = int(number)\n",
        "        while(number // 10 != 0):\n",
        "            sum = 0\n",
        "            sum += number % 10\n",
        "            number //= 10\n",
        "            sum += number\n",
        "            number = sum\n",
        "\n",
        "        print(sum)"
      ],
      "execution_count": null,
      "outputs": [
        {
          "output_type": "stream",
          "text": [
            "2\n",
            "2\n",
            "11\n",
            "2\n",
            "47\n",
            "2\n",
            "1234567892\n",
            "2\n",
            "0\n"
          ],
          "name": "stdout"
        }
      ]
    },
    {
      "cell_type": "code",
      "metadata": {
        "id": "3I4CJ3U8DgkS"
      },
      "source": [
        "# online judge: 11498 (in C)\n",
        "\n",
        "#include <stdio.h>\n",
        "\n",
        "int main()\n",
        "{\n",
        "    int K, n, m, x, y;\n",
        "    \n",
        "    while(1)    \n",
        "    {   \n",
        "        scanf(\"%d\\n\", &K);\n",
        "        if (!K)\n",
        "            break;\n",
        "        else\n",
        "        {\n",
        "            scanf(\"%d %d\\n\", &n, &m);\n",
        "            while(K--) \n",
        "            {\n",
        "                scanf(\"%d %d\\n\", &x, &y);\n",
        "                if (x == n || y == m)\n",
        "                    printf(\"divisa\\n\");\n",
        "                else if (x > n && y > m)\n",
        "                    printf(\"NE\\n\");\n",
        "                else if (x < n && y > m)\n",
        "                    printf(\"NO\\n\");\n",
        "                else if (x < n && y < m)\n",
        "                    printf(\"SO\\n\");\n",
        "                //else if (x > n && y < m)\n",
        "                else\n",
        "                    printf(\"SE\\n\");\n",
        "            }\n",
        "        }\n",
        "    }\n",
        "    return 0;\n",
        "    \n",
        "}"
      ],
      "execution_count": null,
      "outputs": []
    },
    {
      "cell_type": "code",
      "metadata": {
        "colab": {
          "base_uri": "https://localhost:8080/"
        },
        "id": "4czyJKjHdzET",
        "outputId": "afd7adf3-2fd8-452f-b0e4-044eacd884f8"
      },
      "source": [
        "n, k = map(int, input().split())\n",
        "scores = []\n",
        "count = 0\n",
        "\n",
        "scores = [int(x) for x in input().split()]\n",
        "\n",
        "for i in range(n):\n",
        "    if scores[i] > 0 and scores[i] >= scores[k-1]:\n",
        "        count += 1\n",
        "\n",
        "print(count)"
      ],
      "execution_count": null,
      "outputs": [
        {
          "output_type": "stream",
          "text": [
            "4 2\n",
            "0 0 0 0\n",
            "0\n"
          ],
          "name": "stdout"
        }
      ]
    },
    {
      "cell_type": "code",
      "metadata": {
        "colab": {
          "base_uri": "https://localhost:8080/"
        },
        "id": "AT4mZIghlcW0",
        "outputId": "40db3729-e69f-447a-f52e-79be59082638"
      },
      "source": [
        "!pip install Levenshtein"
      ],
      "execution_count": null,
      "outputs": [
        {
          "output_type": "stream",
          "text": [
            "Collecting Levenshtein\n",
            "\u001b[?25l  Downloading https://files.pythonhosted.org/packages/8e/41/ff25ae28c972a63abde29cd5cea7c648ae0e16b334693cede0522e66dd68/levenshtein-0.12.0-cp37-cp37m-manylinux1_x86_64.whl (158kB)\n",
            "\r\u001b[K     |██                              | 10kB 15.4MB/s eta 0:00:01\r\u001b[K     |████▏                           | 20kB 6.1MB/s eta 0:00:01\r\u001b[K     |██████▏                         | 30kB 4.4MB/s eta 0:00:01\r\u001b[K     |████████▎                       | 40kB 4.2MB/s eta 0:00:01\r\u001b[K     |██████████▍                     | 51kB 2.2MB/s eta 0:00:01\r\u001b[K     |████████████▍                   | 61kB 2.4MB/s eta 0:00:01\r\u001b[K     |██████████████▌                 | 71kB 2.6MB/s eta 0:00:01\r\u001b[K     |████████████████▋               | 81kB 2.7MB/s eta 0:00:01\r\u001b[K     |██████████████████▋             | 92kB 2.9MB/s eta 0:00:01\r\u001b[K     |████████████████████▊           | 102kB 3.2MB/s eta 0:00:01\r\u001b[K     |██████████████████████▉         | 112kB 3.2MB/s eta 0:00:01\r\u001b[K     |████████████████████████▉       | 122kB 3.2MB/s eta 0:00:01\r\u001b[K     |███████████████████████████     | 133kB 3.2MB/s eta 0:00:01\r\u001b[K     |█████████████████████████████   | 143kB 3.2MB/s eta 0:00:01\r\u001b[K     |███████████████████████████████ | 153kB 3.2MB/s eta 0:00:01\r\u001b[K     |████████████████████████████████| 163kB 3.2MB/s \n",
            "\u001b[?25hRequirement already satisfied: setuptools in /usr/local/lib/python3.7/dist-packages (from Levenshtein) (57.0.0)\n",
            "Installing collected packages: Levenshtein\n",
            "Successfully installed Levenshtein-0.12.0\n"
          ],
          "name": "stdout"
        }
      ]
    },
    {
      "cell_type": "markdown",
      "metadata": {
        "id": "-p4zY2SLwDr5"
      },
      "source": [
        "one\n",
        "onz\n",
        "\n",
        "two\n",
        "twz"
      ]
    },
    {
      "cell_type": "code",
      "metadata": {
        "id": "qjy6T65t9l0T"
      },
      "source": [
        "# online judge - 12289 (in C)\n",
        "\n",
        "#include <stdio.h>\n",
        "#include <string.h>\n",
        "#include <stdlib.h>\n",
        "\n",
        "int main()\n",
        "{\n",
        "    int T, i, text_diff1, text_diff2; \n",
        "    char ch, text[10];\n",
        "    char *one = \"one\";\n",
        "    char *two = \"two\";\n",
        "    \n",
        "    scanf(\"%d\\n\", &T);\n",
        "    \n",
        "    for (i=0; i<T; ++i)\n",
        "    {\n",
        "        scanf(\"%s\\n\", text);\n",
        "\n",
        "        int limit = strlen(text); \n",
        "        \n",
        "        if (limit == 5)\n",
        "            printf(\"%d\\n\", 3);\n",
        "        \n",
        "        else \n",
        "        {\n",
        "            text_diff1 = 0;\n",
        "            text_diff2 = 0;\n",
        "            \n",
        "            for (ch = 0; ch < limit; ++ch)\n",
        "            {\n",
        "                text_diff1 += abs(text[ch] - one[ch]);\n",
        "                text_diff2 += abs(text[ch] - two[ch]);\n",
        "            }\n",
        "            \n",
        "            \n",
        "            if (text_diff1 < text_diff2)\n",
        "                printf(\"%d\\n\", 1);\n",
        "            else\n",
        "                printf(\"%d\\n\", 2);\n",
        "    \n",
        "        }    \n",
        "            \n",
        "    }\n",
        "    return 0;\n",
        "}\n"
      ],
      "execution_count": null,
      "outputs": []
    },
    {
      "cell_type": "code",
      "metadata": {
        "id": "tB3J1bh1vgpC"
      },
      "source": [
        "T = input()\n",
        "T = int(T)\n",
        "\n",
        "for i in range(T):\n",
        "    text = input()\n",
        "    if len(text) == 5:\n",
        "        print(3)\n",
        "    elif "
      ],
      "execution_count": null,
      "outputs": []
    },
    {
      "cell_type": "code",
      "metadata": {
        "colab": {
          "base_uri": "https://localhost:8080/"
        },
        "id": "DsxrjOKBmjOZ",
        "outputId": "934021a8-360e-4c09-dd5f-c03fdc7664fd"
      },
      "source": [
        "import Levenshtein as lev\n",
        "\n",
        "Str1 = \"Apple Inc.\"\n",
        "Str2 = \"apple Inc\"\n",
        "Distance = lev.distance(Str1.lower(),Str2.lower())\n",
        "print(Distance)"
      ],
      "execution_count": null,
      "outputs": [
        {
          "output_type": "stream",
          "text": [
            "1\n"
          ],
          "name": "stdout"
        }
      ]
    },
    {
      "cell_type": "code",
      "metadata": {
        "colab": {
          "base_uri": "https://localhost:8080/"
        },
        "id": "r1upowewlVMU",
        "outputId": "6408c7b7-9e8f-46df-a6de-d66e48fcc2a4"
      },
      "source": [
        "# Online Judge - 12289 (got runtime error)\n",
        "import Levenshtein as lev\n",
        "\n",
        "T = input()\n",
        "T = int(T)\n",
        "\n",
        "for i in range(T):\n",
        "    text = input()\n",
        "    if len(text) == 5:\n",
        "        print(3)\n",
        "    elif lev.distance(\"one\", text) == 1:\n",
        "        print(1)\n",
        "    else:\n",
        "        print(2)"
      ],
      "execution_count": null,
      "outputs": [
        {
          "output_type": "stream",
          "text": [
            "10\n",
            "threo\n",
            "3\n",
            "onq\n",
            "1\n",
            "oje\n",
            "1\n",
            "twl\n",
            "2\n",
            "too\n",
            "2\n",
            "twi\n",
            "2\n",
            "toe\n",
            "2\n",
            "onr\n",
            "1\n",
            "thyee\n",
            "3\n",
            "twi\n",
            "2\n"
          ],
          "name": "stdout"
        }
      ]
    },
    {
      "cell_type": "code",
      "metadata": {
        "id": "FDf15cjAamhS"
      },
      "source": [
        "# online judge - 12403\n",
        "T = input()\n",
        "T = int(T)\n",
        "\n",
        "total_amount = 0\n",
        "\n",
        "for i in range(T):\n",
        "    cmd = input()\n",
        "    if \" \" in cmd:\n",
        "        ops, amt = cmd.split()\n",
        "        amt = int(amt)\n",
        "    else:\n",
        "        ops = cmd\n",
        "    \n",
        "    if ops == \"donate\":\n",
        "        total_amount += amt\n",
        "    else:\n",
        "        print(total_amount)"
      ],
      "execution_count": null,
      "outputs": []
    },
    {
      "cell_type": "code",
      "metadata": {
        "id": "fTX79U9raghH"
      },
      "source": [
        "# Timus - 1086\n",
        "\n",
        "import math\n",
        "#import time\n",
        "\n",
        "#start_time = time.time()\n",
        "\n",
        "primes = []\n",
        "primes.append(2)\n",
        "\n",
        "T = input()\n",
        "T = int(T)\n",
        "\n",
        "for k in range(T):\n",
        "    n = input()\n",
        "    n = int(n)\n",
        "    \n",
        "    for i in range(3, 163842):\n",
        "        is_prime = 1\n",
        "        if i % 2 == 0:\n",
        "            is_prime = 0\n",
        "        else:\n",
        "            for j in range(3, int((math.sqrt(i)))+2):\n",
        "                if i % j == 0:\n",
        "                    is_prime = 0\n",
        "                    break\n",
        "                else:\n",
        "                    j += 2\n",
        "                \n",
        "        if is_prime == 1:\n",
        "            primes.append(i)\n",
        "    \n",
        "    print(primes[n-1])\n",
        "\n",
        "#print(\"--- %s seconds ---\" % (time.time() - start_time))"
      ],
      "execution_count": null,
      "outputs": []
    },
    {
      "cell_type": "code",
      "metadata": {
        "id": "dJ5ORqKweJq8"
      },
      "source": [
        "# online judge - 11636 (in C)\n",
        "\n",
        "#include <stdio.h>\n",
        "#include <math.h>\n",
        "\n",
        "int main()\n",
        "{\n",
        "    double N, result;\n",
        "    int i=0;\n",
        "    \n",
        "    while(1) \n",
        "    {\n",
        "        scanf(\"%lf\\n\", &N);\n",
        "        if (N < 0)\n",
        "            break;\n",
        "        else \n",
        "        {\n",
        "            ++i;\n",
        "            result = ceil(log(N) / log(2));\n",
        "            printf(\"Case %d: %d\\n\", i, (int)result);\n",
        "        }\n",
        "    }\n",
        "\n",
        "    return 0;\n",
        "}"
      ],
      "execution_count": null,
      "outputs": []
    },
    {
      "cell_type": "code",
      "metadata": {
        "id": "5lPcKJi4eC_3"
      },
      "source": [
        "# online judge - 382 (in C)\n",
        "#include <stdio.h>\n",
        "\n",
        "int main()\n",
        "{\n",
        "    long int n, i, sum;\n",
        "\n",
        "    printf(\"PERFECTION OUTPUT\\n\");\n",
        "    while(1)\n",
        "    {\n",
        "        scanf(\"%ld \", &n);\n",
        "        if (n == 0)\n",
        "            break;\n",
        "        else\n",
        "        {\n",
        "            sum = 0;\n",
        "            for (i=1; i < n; ++i) \n",
        "            {\n",
        "                if (n % i == 0)\n",
        "                    sum += i;\n",
        "            }\n",
        "            \n",
        "            if (sum == n)\n",
        "                printf(\"%5ld  PERFECT\\n\", n);\n",
        "            else if (sum < n)\n",
        "                printf(\"%5ld  DEFICIENT\\n\", n);\n",
        "            else\n",
        "                printf(\"%5ld  ABUNDANT\\n\", n);\n",
        "        }\n",
        "    }\n",
        "    \n",
        "    printf(\"END OF OUTPUT\\n\");\n",
        "\n",
        "    return 0;\n",
        "}"
      ],
      "execution_count": null,
      "outputs": []
    },
    {
      "cell_type": "code",
      "metadata": {
        "id": "L1nzabFeA4h1"
      },
      "source": [
        "# online judge 10370 (in C)\n",
        "#include <stdio.h>\n",
        "\n",
        "int main()\n",
        "{\n",
        "    int T, n, i, j, count, grades[1000];\n",
        "    double avg, above_avg;\n",
        "    \n",
        "    scanf(\"%d\\n\", &T);\n",
        "    \n",
        "    for(i=0; i < T; ++i)\n",
        "    {\n",
        "        avg = 0.0;\n",
        "        scanf(\"%d \", &n);\n",
        "        for (j=0; j < n; ++j)\n",
        "        {\n",
        "            scanf(\"%d \", &grades[j]);\n",
        "            avg += grades[j]; \n",
        "        }\n",
        "        \n",
        "        avg = avg / n;\n",
        "        //printf(\"%lf \", avg);\n",
        "        \n",
        "        count = 0;\n",
        "        \n",
        "        for (j=0; j < n; ++j)\n",
        "        {\n",
        "            if (grades[j] > avg)\n",
        "                ++count;\n",
        "        }\n",
        "        //printf(\"%d \", count);\n",
        "        \n",
        "        above_avg = ((double)count / (double)n)*100;\n",
        "        printf(\"%.3lf%%\\n\", above_avg);\n",
        "    }\n",
        "\n",
        "    return 0;\n",
        "}\n"
      ],
      "execution_count": null,
      "outputs": []
    },
    {
      "cell_type": "code",
      "metadata": {
        "colab": {
          "base_uri": "https://localhost:8080/"
        },
        "id": "Yk77BbDr-J5T",
        "outputId": "50288638-dd6e-49c2-8350-e0e443ac2fdb"
      },
      "source": [
        "# online judge: 10783\n",
        "T = input()\n",
        "T = int(T)\n",
        "\n",
        "for i in range(T):\n",
        "    n_1 = input()\n",
        "    n_1 = int(n_1)\n",
        "    n_2 = input()\n",
        "    n_2 = int(n_2)\n",
        "    sum = 0\n",
        "    for j in range(n_1, n_2+1):\n",
        "        if j % 2 != 0:\n",
        "            sum += j\n",
        "    print(\"Case {}: {}\".format(i+1, sum))\n"
      ],
      "execution_count": null,
      "outputs": [
        {
          "output_type": "stream",
          "text": [
            "2\n",
            "1\n",
            "5\n",
            "Case 1: 9\n",
            "3\n",
            "5\n",
            "Case 2: 8\n"
          ],
          "name": "stdout"
        }
      ]
    },
    {
      "cell_type": "code",
      "metadata": {
        "colab": {
          "base_uri": "https://localhost:8080/"
        },
        "id": "edW9Ws9b1Kor",
        "outputId": "5ee4b790-97f5-4132-f535-c5cbe92e4392"
      },
      "source": [
        "# wrong answer - LightOJ: 1001\n",
        "\n",
        "import random\n",
        "\n",
        "T = input()\n",
        "T = int(T)\n",
        "for i in range(T):\n",
        "    n = input()\n",
        "    n = int(n)\n",
        "\n",
        "    m = random.randint(0, n)\n",
        "    print(\"{} {}\".format(m, n-m))"
      ],
      "execution_count": null,
      "outputs": [
        {
          "output_type": "stream",
          "text": [
            "3\n",
            "10\n",
            "5 5\n",
            "7\n",
            "2 5\n",
            "7\n",
            "6 1\n"
          ],
          "name": "stdout"
        }
      ]
    },
    {
      "cell_type": "code",
      "metadata": {
        "id": "7D20M6KL1vJb"
      },
      "source": [
        "# online judge - 12577\n",
        "i = 1\n",
        "while True:\n",
        "    text = input()    \n",
        "    if text == \"*\":\n",
        "        break\n",
        "    elif text == \"Hajj\":\n",
        "        print(\"Case {}: Hajj-e-Akbar\".format(i))\n",
        "    elif text == \"Umrah\":\n",
        "        print(\"Case {}: Hajj-e-Asghar\".format(i))\n",
        "    \n",
        "    i += 1"
      ],
      "execution_count": null,
      "outputs": []
    },
    {
      "cell_type": "code",
      "metadata": {
        "colab": {
          "base_uri": "https://localhost:8080/"
        },
        "id": "6xrHr89WTPGX",
        "outputId": "030faa8f-a2a7-41d0-aa40-c40c860b524c"
      },
      "source": [
        "# online judge - 294\n",
        "\"\"\"Need to make this code efficient for long inputs\n",
        "3\n",
        "1 10\n",
        "1000 1000\n",
        "999999900 1000000000\"\"\"\n",
        "\n",
        "T = input()\n",
        "T = int(T)\n",
        "for i in range(T):\n",
        "    num1, num2 = input().split()\n",
        "    num1 = int(num1)\n",
        "    num2 = int(num2)\n",
        "\n",
        "    each_num_divisor_list = []\n",
        "\n",
        "    for num_in_range in range(num1, num2+1):\n",
        "        count_divisor = 0\n",
        "\n",
        "        for k in range(1, num_in_range+1):\n",
        "            if num_in_range % k == 0:\n",
        "                count_divisor += 1\n",
        "\n",
        "        each_num_divisor_list.append(count_divisor)\n",
        "    \n",
        "    max_divisor = max(each_num_divisor_list)\n",
        "    max_divisor_index = each_num_divisor_list.index(max_divisor)\n",
        "\n",
        "    print(\"Between {} and {}, {} has a maximum of {} divisors.\".format(num1, \n",
        "            num2, num1+max_divisor_index, max_divisor))\n",
        "    "
      ],
      "execution_count": null,
      "outputs": [
        {
          "output_type": "stream",
          "text": [
            "3\n",
            "1 10\n",
            "Between 1 and 10, 6 has a maximum of 4 divisors.\n",
            "1000 1000\n",
            "Between 1000 and 1000, 1000 has a maximum of 16 divisors.\n",
            "1001 1005\n",
            "Between 1001 and 1005, 1001 has a maximum of 8 divisors.\n"
          ],
          "name": "stdout"
        }
      ]
    },
    {
      "cell_type": "code",
      "metadata": {
        "colab": {
          "base_uri": "https://localhost:8080/"
        },
        "id": "fFUP-48badVi",
        "outputId": "5f17efd7-1404-4041-8083-baadf83f8197"
      },
      "source": [
        "# online judge - 11466\n",
        "import math\n",
        "\n",
        "while True:\n",
        "    num = input()\n",
        "    num = int(num)\n",
        "    if num == 0:\n",
        "        break\n",
        "\n",
        "    else:\n",
        "        prime_list = []\n",
        "        if num % 2 == 0:\n",
        "            prime_list.append(2)\n",
        "        \n",
        "        for divisor in range(3, num+1):\n",
        "            #print(divisor)\n",
        "            if num % divisor == 0:\n",
        "                flag = 1\n",
        "                for i in range(2, math.ceil(math.sqrt(divisor)+1)):\n",
        "                    if divisor % i == 0:\n",
        "                        #print(i)\n",
        "                        flag = 0 \n",
        "\n",
        "                if flag == 1:\n",
        "                    prime_list.append(divisor)\n",
        "                    # print(prime_list)\n",
        "\n",
        "        if len(prime_list) == 1:\n",
        "            print(\"-1\")\n",
        "        else:\n",
        "            max_prime = max(prime_list)\n",
        "            print(\"{}\".format(max_prime))\n"
      ],
      "execution_count": null,
      "outputs": [
        {
          "output_type": "stream",
          "text": [
            "2\n",
            "-1\n",
            "6\n",
            "3\n",
            "100\n",
            "5\n",
            "0\n"
          ],
          "name": "stdout"
        }
      ]
    },
    {
      "cell_type": "code",
      "metadata": {
        "colab": {
          "base_uri": "https://localhost:8080/"
        },
        "id": "iQNBsM66mAzy",
        "outputId": "eca52090-53ec-4a1c-cafd-d4e9c309fd1b"
      },
      "source": [
        "# online judge: Problem - 11727\n",
        "T = input()\n",
        "T = int(T)\n",
        "for i in range(T):\n",
        "    num1, num2, num3 = input().split()\n",
        "    nums = [int(num1), int(num2), int(num3)]\n",
        "\n",
        "    nums.remove(max(nums))\n",
        "    nums.remove(min(nums))\n",
        "    print(\"Case {}: {}\".format(i+1, nums.pop()))"
      ],
      "execution_count": null,
      "outputs": [
        {
          "output_type": "stream",
          "text": [
            "3\n",
            "1000 2000 3000\n",
            "Case 1: 2000\n",
            "3000 2500 1500\n",
            "Case 2: 2500\n",
            "1500 1200 1800\n",
            "Case 3: 1500\n"
          ],
          "name": "stdout"
        }
      ]
    },
    {
      "cell_type": "code",
      "metadata": {
        "colab": {
          "base_uri": "https://localhost:8080/"
        },
        "id": "76il5E_wAtik",
        "outputId": "da352e92-8637-4e0b-a6e2-3d914d53a0be"
      },
      "source": [
        "# URI: 1074\n",
        "T = input()\n",
        "T = int(T)\n",
        "\n",
        "nums = []\n",
        "for i in range(T):\n",
        "    x = input()\n",
        "    nums.append(int(x))\n",
        "\n",
        "for num in nums:\n",
        "    if num % 2 == 0 and num != 0:\n",
        "        print(\"EVEN\", end=\"\")\n",
        "    elif num == 0:\n",
        "        print(\"NULL\")\n",
        "    else:\n",
        "        print(\"ODD\", end=\"\")\n",
        "    \n",
        "    if num > 0:\n",
        "        print(\" POSITIVE\")\n",
        "    elif num < 0:\n",
        "        print(\" NEGATIVE\")"
      ],
      "execution_count": null,
      "outputs": [
        {
          "output_type": "stream",
          "text": [
            "4\n",
            "-5\n",
            "0\n",
            "3\n",
            "-4\n",
            "ODD NEGATIVE\n",
            "NULL\n",
            "ODD POSITIVE\n",
            "EVEN NEGATIVE\n"
          ],
          "name": "stdout"
        }
      ]
    },
    {
      "cell_type": "code",
      "metadata": {
        "id": "_w6ewU5IDyrt"
      },
      "source": [
        "# Problem 12250\n",
        "t = 1\n",
        "while True:\n",
        "    line = input()\n",
        "    if line == \"HELLO\":\n",
        "        print(\"Case {}: ENGLISH\".format(t))\n",
        "    elif line == \"HOLA\":\n",
        "        print(\"Case {}: SPANISH\".format(t))\n",
        "    elif line == \"HALLO\":\n",
        "        print(\"Case {}: GERMAN\".format(t))\n",
        "    elif line == \"BONJOUR\":\n",
        "        print(\"Case {}: FRENCH\".format(t))\n",
        "    elif line == \"CIAO\":\n",
        "        print(\"Case {}: ITALIAN\".format(t))\n",
        "    elif line == \"ZDRAVSTVUJTE\":\n",
        "        print(\"Case {}: RUSSIAN\".format(t))\n",
        "    elif line == \"#\":\n",
        "        break\n",
        "    else:\n",
        "        print(\"Case {}: UNKNOWN\".format(t))\n",
        "    t += 1"
      ],
      "execution_count": null,
      "outputs": []
    }
  ]
}